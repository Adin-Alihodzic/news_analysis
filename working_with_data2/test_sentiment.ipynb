{
 "cells": [
  {
   "cell_type": "code",
   "execution_count": 1,
   "metadata": {
    "collapsed": false
   },
   "outputs": [
    {
     "name": "stdout",
     "output_type": "stream",
     "text": [
      "[nltk_data] Downloading package stopwords to /home/ian/nltk_data...\n",
      "[nltk_data]   Package stopwords is already up-to-date!\n",
      "[nltk_data] Downloading package wordnet to /home/ian/nltk_data...\n",
      "[nltk_data]   Package wordnet is already up-to-date!\n"
     ]
    }
   ],
   "source": [
    "import pickle\n",
    "import numpy as np\n",
    "import pandas as pd\n",
    "import multiprocessing as mp\n",
    "import pickle\n",
    "import matplotlib.pyplot as plt\n",
    "\n",
    "import nltk\n",
    "from nltk.corpus import sentiwordnet as swn\n",
    "\n",
    "from data_exploration import process_articles, article_topics_and_topic_coverage\n",
    "\n",
    "def get_sentiment(word):\n",
    "    mean_pos = 0\n",
    "    mean_neg = 0\n",
    "    mean_obj = 0\n",
    "    score = 0\n",
    "    bias = 0\n",
    "    for similar_words in swn.senti_synsets(word):\n",
    "        mean_pos += similar_words.pos_score()\n",
    "        mean_neg += similar_words.neg_score()\n",
    "        mean_obj += similar_words.obj_score()\n",
    "    size = len(list(swn.senti_synsets(word)))\n",
    "    if size != 0:\n",
    "        mean_pos = mean_pos/size\n",
    "        mean_neg = mean_neg/size\n",
    "        mean_obj = mean_obj/size\n",
    "        score = (mean_pos - mean_neg)*(1-mean_obj)\n",
    "        bias = (mean_pos + mean_neg) * (1-mean_obj)\n",
    "    return mean_pos, mean_neg, mean_obj, score, bias\n",
    "\n",
    "def sentiment(lda_model, sentiment_texts):\n",
    "    lda_topics = lda_model.show_topics(num_topics=-1, num_words=10000,formatted=False)\n",
    "\n",
    "    # We only want adjectives, verbs, adverbs\n",
    "    relevant_types = ['JJ', 'VB', 'RB']\n",
    "\n",
    "    # Get all the unique words found in each topic\n",
    "    topic_words = []\n",
    "    for word_and_prob in lda_topics[0][1]:\n",
    "        word = word_and_prob[0]\n",
    "        for word, word_type in nltk.pos_tag([word]):\n",
    "            if word_type in relevant_types:\n",
    "                topic_words.append(word)\n",
    "\n",
    "    # Get list of unique words found in sentiment texts created in data_exploration.py\n",
    "    sentiment_texts_words = set()\n",
    "    for i in range(len(sentiment_texts)):\n",
    "        sentiment_texts_words = sentiment_texts_words | set(sentiment_texts[i])\n",
    "    sentiment_texts_words = list(sentiment_texts_words)\n",
    "\n",
    "    # Get the sentiment for all words from sentiment_texts\n",
    "    sentiment_of_words = dict()\n",
    "    for word in sentiment_texts_words:\n",
    "        if word in topic_words:\n",
    "            pos, neg, obj, score, bias = get_sentiment(word)\n",
    "            if pos == 0 and neg == 0:\n",
    "                pass\n",
    "            else:\n",
    "                sentiment_of_words[word] = [pos, neg, obj, score, bias]\n",
    "\n",
    "    return sentiment_of_words\n",
    "\n",
    "def get_sentiment_by_article(lda_topics, sentiment_of_words, article_topic):\n",
    "    sentiment_by_topic = dict()\n",
    "    max_prob = 0\n",
    "    for topic_and_prob in article_topic:\n",
    "        topic = topic_and_prob[0]\n",
    "        topic_prob = topic_and_prob[1]\n",
    "        s_pos = 0\n",
    "        s_neg = 0\n",
    "        s_obj = 0\n",
    "        s_score = 0\n",
    "        s_bias = 0\n",
    "        relevant_word_count = 0\n",
    "        for words_and_probs in lda_topics[topic][1]:\n",
    "            word = words_and_probs[0]\n",
    "            if word in sentiment_of_words.keys():\n",
    "                relevant_word_count += 1\n",
    "                prob = words_and_probs[1]\n",
    "                if prob > max_prob:\n",
    "                    max_prob = prob\n",
    "                pos, neg, obj, score, bias = sentiment_of_words[word]\n",
    "                s_pos += pos\n",
    "                s_neg += neg\n",
    "                s_obj += obj\n",
    "                s_score += score * prob #weight word depending on prob for that topic\n",
    "                s_bias += bias * prob\n",
    "\n",
    "        # s_pos /= max_prob\n",
    "        # s_neg /= max_prob\n",
    "        # s_obj /= max_prob\n",
    "        s_score /= max_prob\n",
    "        s_bias /= max_prob\n",
    "\n",
    "        if relevant_word_count != 0:\n",
    "            sentiment_by_topic[topic] = [topic_prob, max_prob, s_pos/relevant_word_count, s_neg/relevant_word_count, s_obj/relevant_word_count, s_score/relevant_word_count, s_bias/relevant_word_count]\n",
    "\n",
    "    return sentiment_by_topic\n",
    "\n",
    "def topic_values(sentiment_by_article, num_topics):\n",
    "    topic_dict = {topic: {'x': [], 'y': [], 'url': [], 'source': [], 'headline': [], 'topic_prob': [], 'score': [], 'bias': []} for topic in range(num_topics)}\n",
    "    for topic in range(num_topics):\n",
    "        for i, sentiment_by_topic in enumerate(sentiment_by_article):\n",
    "            if topic in sentiment_by_topic:\n",
    "                if sentiment_by_topic[topic][0] > 0.20:\n",
    "                    max_prob = sentiment_by_topic[topic][1]\n",
    "                    topic_dict[topic]['x'].append(sentiment_by_topic[topic][2]/sentiment_by_topic[topic][1])\n",
    "                    topic_dict[topic]['y'].append(sentiment_by_topic[topic][3]/sentiment_by_topic[topic][1])\n",
    "                    topic_dict[topic]['url'].append(df['url'][i])\n",
    "                    topic_dict[topic]['source'].append(df['source'][i])\n",
    "                    topic_dict[topic]['headline'].append(df['headline'][i])\n",
    "                    topic_dict[topic]['topic_prob'].append(sentiment_by_topic[topic][0])\n",
    "                    topic_dict[topic]['score'].append(sentiment_by_topic[topic][5])\n",
    "\n",
    "    return topic_dict"
   ]
  },
  {
   "cell_type": "code",
   "execution_count": 3,
   "metadata": {
    "collapsed": false
   },
   "outputs": [
    {
     "name": "stdout",
     "output_type": "stream",
     "text": [
      "Processing Articles...\n",
      "Getting LDA model...\n",
      "Getting Sentiment...\n",
      "Getting article topics...\n"
     ]
    }
   ],
   "source": [
    "df = pd.read_csv('../data/rss_feeds_new_good.csv')\n",
    "df = df[pd.notnull(df['article_text'])]\n",
    "\n",
    "print('Processing Articles...')\n",
    "topic_texts, sentiment_texts = process_articles(df)\n",
    "\n",
    "print('Getting LDA model...')\n",
    "with open('../working_with_data/lda_model.pkl', 'rb') as f:\n",
    "    lda_model = pickle.load(f)\n",
    "\n",
    "print('Getting Sentiment...')\n",
    "sentiment_of_words = sentiment(lda_model, sentiment_texts)\n",
    "\n",
    "lda_topics = lda_model.show_topics(num_topics=-1, num_words=10000,formatted=False)\n",
    "\n",
    "def wrapper_get_sentiment_by_article(article_topic):\n",
    "    return get_sentiment_by_article(lda_topics, sentiment_of_words, article_topic)\n",
    "\n",
    "print('Getting article topics...')\n",
    "all_article_topics = article_topics_and_topic_coverage(lda_model, topic_texts, tokenized=False)\n"
   ]
  },
  {
   "cell_type": "code",
   "execution_count": null,
   "metadata": {
    "collapsed": true
   },
   "outputs": [],
   "source": [
    "print('Getting Sentiment by Article using MutiProcessing...')\n",
    "pool = mp.Pool(50)\n",
    "test = pool.map(wrapper_get_sentiment_by_article, all_article_topics[:100])"
   ]
  },
  {
   "cell_type": "code",
   "execution_count": null,
   "metadata": {
    "collapsed": true
   },
   "outputs": [],
   "source": [
    "test2 = []\n",
    "for at in all_article_topics[:100]:\n",
    "    test2.append(get_sentiment_by_article(lda_topics, sentiment_of_words, at))"
   ]
  },
  {
   "cell_type": "code",
   "execution_count": 9,
   "metadata": {
    "collapsed": true
   },
   "outputs": [],
   "source": [
    "%matplotlib inline"
   ]
  },
  {
   "cell_type": "code",
   "execution_count": null,
   "metadata": {
    "collapsed": true
   },
   "outputs": [],
   "source": [
    "plt.scatter(topic_dict[27]['x'], topic_dict[27]['y'])"
   ]
  },
  {
   "cell_type": "code",
   "execution_count": 5,
   "metadata": {
    "collapsed": true
   },
   "outputs": [],
   "source": [
    "def article_sentiment(article, sentiment_of_words):\n",
    "    s_pos = 0\n",
    "    s_neg = 0\n",
    "    s_obj = 0\n",
    "    relevant_word_count = 0\n",
    "    for word in article:\n",
    "        if word in sentiment_of_words.keys():\n",
    "            relevant_word_count += 1\n",
    "            pos, neg, obj, score, bias = sentiment_of_words[word]\n",
    "            s_pos += pos\n",
    "            s_neg += neg\n",
    "            s_obj += obj\n",
    "    if relevant_word_count != 0:\n",
    "         s_pos, s_neg, s_obj = s_pos/relevant_word_count, s_neg/relevant_word_count, s_obj/relevant_word_count\n",
    "\n",
    "    return s_pos, s_neg, s_obj"
   ]
  },
  {
   "cell_type": "code",
   "execution_count": 8,
   "metadata": {
    "collapsed": false
   },
   "outputs": [],
   "source": [
    "articles_sentiment = []\n",
    "for article in sentiment_texts:\n",
    "    articles_sentiment.append(article_sentiment(article, sentiment_of_words))"
   ]
  },
  {
   "cell_type": "code",
   "execution_count": 11,
   "metadata": {
    "collapsed": false
   },
   "outputs": [
    {
     "data": {
      "text/plain": [
       "<matplotlib.collections.PathCollection at 0x7f2217569588>"
      ]
     },
     "execution_count": 11,
     "metadata": {},
     "output_type": "execute_result"
    },
    {
     "data": {
      "image/png": "[encoded data removed]",
      "text/plain": [
       "<matplotlib.figure.Figure at 0x7f22176c2c50>"
      ]
     },
     "metadata": {},
     "output_type": "display_data"
    }
   ],
   "source": [
    "plt.scatter(np.array(articles_sentiment)[:,0], np.array(articles_sentiment)[:,1])"
   ]
  },
  {
   "cell_type": "code",
   "execution_count": 17,
   "metadata": {
    "collapsed": false
   },
   "outputs": [],
   "source": [
    "def topic_values(sentiment_texts, sentiment_of_words, num_topics):\n",
    "    topic_dict = {topic: {'pos': [], 'neg': [], 'obj': [], 'topic_prob': [], 'url': [], 'source': [], 'headline': []} for topic in range(num_topics)}\n",
    "    for i in range(len(sentiment_texts)):\n",
    "        # Make sure article is long enough\n",
    "        if len(sentiment_texts[i]) > 100:\n",
    "            pos, neg, obj = article_sentiment(sentiment_texts[i], sentiment_of_words)\n",
    "            for topic_and_prob in all_article_topics[i]:\n",
    "                topic = topic_and_prob[0]\n",
    "                prob = topic_and_prob[1]\n",
    "                if prob > 0.20:\n",
    "                    topic_dict[topic]['pos'].append(pos)\n",
    "                    topic_dict[topic]['neg'].append(neg)\n",
    "                    topic_dict[topic]['obj'].append(neg)\n",
    "                    topic_dict[topic]['topic_prob'].append(prob)\n",
    "                    topic_dict[topic]['url'].append(df['url'][i])\n",
    "                    topic_dict[topic]['source'].append(df['source'][i])\n",
    "                    topic_dict[topic]['headline'].append(df['headline'][i])\n",
    "\n",
    "    return topic_dict"
   ]
  },
  {
   "cell_type": "code",
   "execution_count": 18,
   "metadata": {
    "collapsed": false
   },
   "outputs": [],
   "source": [
    "topic_dict_values = topic_values(sentiment_texts, sentiment_of_words, lda_model.num_topics)"
   ]
  },
  {
   "cell_type": "code",
   "execution_count": 19,
   "metadata": {
    "collapsed": false
   },
   "outputs": [
    {
     "data": {
      "text/plain": [
       "{'headline': ['Biden to headline Romney summit',\n",
       "  'Exclusive: EPA offers buyouts in bid to cut staff - internal memo',\n",
       "  'AP Source: Flynn agrees to provide some requested documents',\n",
       "  'Al Franken to David Letterman: ‘Everything points to’ collusion with Trump, Russia',\n",
       "  'AP source: Flynn agrees to provide documents to Senate panel',\n",
       "  'The Latest: Flynn to give documents to Senate intel panel',\n",
       "  \"Congress expands Russia investigation to include Trump's personal attorney\",\n",
       "  \"Report: Michael Flynn's firm worked on pro-Turkey documentary for $530K\",\n",
       "  'Trump lawyer, former Trump surrogate on list of people House committee wants to hear from',\n",
       "  \"Trump lawyer Michael Cohen won't cooperate with Congress\",\n",
       "  'Jeb Bush no longer interested in buying Miami Marlins',\n",
       "  \"U.S. senators criticize Egypt's NGO law as crackdown on rights\",\n",
       "  'Flynn to turn over subpoenaed documents to Senate intelligence committee',\n",
       "  \"Flynn's firm was paid $530G to make pro-Turkey documentary last fall\",\n",
       "  \"House intel subpoenas Trump's personal attorney\",\n",
       "  'New Hampshire inn sees surge of business as Navy yard expands',\n",
       "  'Maine inn sees surge of business as Navy yard expands',\n",
       "  'Global Warming Is On Pace To Cause Many Sleepless Nights By 2099, Study Finds',\n",
       "  'Michael Flynn’s Turkish Lobbying Client Defiant At Trump Hotel Event',\n",
       "  'Michigan House OKs bill governing police body camera footage',\n",
       "  \"Chicago launches ad campaign to counter Trump's immigration efforts\",\n",
       "  \"Anthony Weiner May Have 'A Sickness,' But It's Probably Not Sex Addiction\",\n",
       "  \"Flynn rejected Obama's offer to arm Syrian Kurds, something Turkey would oppose\",\n",
       "  'Report: Flynn blocked US military plan that Turkey opposed',\n",
       "  'Report: Flynn blocked US military operation that Turkey opposed',\n",
       "  \"Trump's 1989 trip to Israel that never was\",\n",
       "  'You Need To Connect The Dots Between The Bombshell Michael Flynn Stories',\n",
       "  'Report: Before Trump took office, Michael Flynn blocked military plan Turkey opposed'],\n",
       " 'neg': [0.08808823529411765,\n",
       "  0.07048611111111111,\n",
       "  0.06798807519640854,\n",
       "  0.08651030986557302,\n",
       "  0.07607266524898103,\n",
       "  0.038393097643097646,\n",
       "  0.0826139799354085,\n",
       "  0.23892045454545455,\n",
       "  0.10292929292929291,\n",
       "  0.04491436925647452,\n",
       "  0.090625,\n",
       "  0.13724104225023342,\n",
       "  0.0671229399255715,\n",
       "  0.10987933634992458,\n",
       "  0.06489197530864198,\n",
       "  0.07256906729634002,\n",
       "  0.07256906729634002,\n",
       "  0.0891388999605112,\n",
       "  0.10194306355020641,\n",
       "  0.04810515873015873,\n",
       "  0.13507282647907648,\n",
       "  0.07997845904095906,\n",
       "  0.06176236044657096,\n",
       "  0.1265625,\n",
       "  0.1265625,\n",
       "  0.07562095747389865,\n",
       "  0.0793190593190593,\n",
       "  0.109375],\n",
       " 'obj': [0.08808823529411765,\n",
       "  0.07048611111111111,\n",
       "  0.06798807519640854,\n",
       "  0.08651030986557302,\n",
       "  0.07607266524898103,\n",
       "  0.038393097643097646,\n",
       "  0.0826139799354085,\n",
       "  0.23892045454545455,\n",
       "  0.10292929292929291,\n",
       "  0.04491436925647452,\n",
       "  0.090625,\n",
       "  0.13724104225023342,\n",
       "  0.0671229399255715,\n",
       "  0.10987933634992458,\n",
       "  0.06489197530864198,\n",
       "  0.07256906729634002,\n",
       "  0.07256906729634002,\n",
       "  0.0891388999605112,\n",
       "  0.10194306355020641,\n",
       "  0.04810515873015873,\n",
       "  0.13507282647907648,\n",
       "  0.07997845904095906,\n",
       "  0.06176236044657096,\n",
       "  0.1265625,\n",
       "  0.1265625,\n",
       "  0.07562095747389865,\n",
       "  0.0793190593190593,\n",
       "  0.109375],\n",
       " 'pos': [0.050490196078431374,\n",
       "  0.08784722222222223,\n",
       "  0.10309488921166551,\n",
       "  0.10268331814384446,\n",
       "  0.11130766214779372,\n",
       "  0.0842605218855219,\n",
       "  0.10504663986806843,\n",
       "  0.03977272727272727,\n",
       "  0.08111742424242424,\n",
       "  0.046825396825396826,\n",
       "  0.08975694444444444,\n",
       "  0.05390187324929972,\n",
       "  0.10774082934609251,\n",
       "  0.03889831573655103,\n",
       "  0.0758853151397011,\n",
       "  0.10540035911058637,\n",
       "  0.10540035911058637,\n",
       "  0.14817820491174072,\n",
       "  0.11981866513116513,\n",
       "  0.12110119047619046,\n",
       "  0.12323683261183262,\n",
       "  0.14872759185259182,\n",
       "  0.06249679596719071,\n",
       "  0.16614583333333333,\n",
       "  0.16614583333333333,\n",
       "  0.12060925961293609,\n",
       "  0.09446589446589447,\n",
       "  0.13020833333333334],\n",
       " 'source': ['cnn',\n",
       "  'reuters',\n",
       "  'washtimes',\n",
       "  'washtimes',\n",
       "  'washtimes',\n",
       "  'washtimes',\n",
       "  'abc',\n",
       "  'cbs',\n",
       "  'cbs',\n",
       "  'cnn',\n",
       "  'cnn',\n",
       "  'reuters',\n",
       "  'fox',\n",
       "  'fox',\n",
       "  'fox',\n",
       "  'fox',\n",
       "  'fox',\n",
       "  'huffpo',\n",
       "  'huffpo',\n",
       "  'washtimes',\n",
       "  'reuters',\n",
       "  'huffpo',\n",
       "  'cnn',\n",
       "  'fox',\n",
       "  'fox',\n",
       "  'cnn',\n",
       "  'huffpo',\n",
       "  'cbs'],\n",
       " 'topic_prob': [0.3854175058458279,\n",
       "  0.75620454103994628,\n",
       "  0.99782448407341284,\n",
       "  0.28951181506919149,\n",
       "  0.99707398000998626,\n",
       "  0.62513449164004897,\n",
       "  0.2358412526811042,\n",
       "  0.9918569546884366,\n",
       "  0.25243583484263254,\n",
       "  0.22363901130414413,\n",
       "  0.32794092936759683,\n",
       "  0.49402441261161106,\n",
       "  0.93680521858695764,\n",
       "  0.54917098347192383,\n",
       "  0.99395986063952213,\n",
       "  0.25609256839738137,\n",
       "  0.24683630819993302,\n",
       "  0.20987032022143565,\n",
       "  0.99792396022120566,\n",
       "  0.29423904240865761,\n",
       "  0.20378345143675955,\n",
       "  0.50238304631485875,\n",
       "  0.31566298368479107,\n",
       "  0.99303300159749663,\n",
       "  0.9929695413931332,\n",
       "  0.53230587778251159,\n",
       "  0.2063036702262607,\n",
       "  0.99241696983671235],\n",
       " 'url': ['http://rss.cnn.com/~r/rss/cnn_allpolitics/~3/CiuLBw4iNto/index.html',\n",
       "  'http://feeds.reuters.com/~r/Reuters/PoliticsNews/~3/2DWICEohr0M/us-usa-epa-buyouts-exclusive-idUSKBN18S6N5',\n",
       "  'http://www.washingtontimes.com/news/2017/may/31/ap-source-flynn-agrees-to-provide-some-requested-d/?utm_source=RSS_Feed&utm_medium=RSS',\n",
       "  'http://www.washingtontimes.com/news/2017/may/30/al-franken-david-letterman-everything-points-collu/?utm_source=RSS_Feed&utm_medium=RSS',\n",
       "  'http://www.washingtontimes.com/news/2017/may/30/ap-source-flynn-agrees-to-provide-documents-to-sen/?utm_source=RSS_Feed&utm_medium=RSS',\n",
       "  'http://www.washingtontimes.com/news/2017/may/30/the-latest-flynn-to-give-documents-to-senate-intel/?utm_source=RSS_Feed&utm_medium=RSS',\n",
       "  'http://abcnews.go.com/Politics/russia-investigation-expands-include-donald-trumps-personal-attorney/story?id=47646601',\n",
       "  'http://www.cbsnews.com/news/report-michael-flynns-firm-worked-on-pro-turkey-documentary-for-530k/',\n",
       "  'http://www.cbsnews.com/news/trump-lawyer-former-trump-surrogate-on-list-of-people-house-committee-wants-to-hear-from/',\n",
       "  'http://rss.cnn.com/~r/rss/cnn_allpolitics/~3/-ktSTbiaDOA/index.html',\n",
       "  'http://rss.cnn.com/~r/rss/cnn_allpolitics/~3/3NERnqd2-DM/index.html',\n",
       "  'http://feeds.reuters.com/~r/Reuters/PoliticsNews/~3/MFK5cmVS000/us-egypt-rights-usa-idUSKBN18S3KA',\n",
       "  'http://feeds.foxnews.com/~r/foxnews/politics/~3/2B41B8JZVd4/flynn-to-turn-over-subpoenaed-documents-to-senate-intelligence-committee.html',\n",
       "  'http://feeds.foxnews.com/~r/foxnews/politics/~3/LW1sclf57fY/flynns-firm-was-paid-530g-to-make-pro-turkey-documentary-last-fall.html',\n",
       "  'http://feeds.foxnews.com/~r/foxnews/politics/~3/hKCAVtGjKI4/house-intel-subpoenas-trumps-personal-attorney.html',\n",
       "  'http://feeds.foxnews.com/~r/foxnews/politics/~3/c983aqYJpgE/new-hampshire-inn-sees-surge-business-as-navy-yard-expands.html',\n",
       "  'http://feeds.foxnews.com/~r/foxnews/politics/~3/NZtCtkjE7RU/maine-inn-sees-surge-business-as-navy-yard-expands.html',\n",
       "  'http://www.huffingtonpost.com/2017/05/26/climate-change-sleep_n_16822846.html?utm_hp_ref=politics&ir=Politics',\n",
       "  'http://www.huffingtonpost.com/2017/05/23/michael-flynns-turkish-lobbying-client-defiant_n_16776608.html?utm_hp_ref=politics&ir=Politics',\n",
       "  'http://www.washingtontimes.com/news/2017/may/23/michigan-house-oks-bill-governing-police-body-came/?utm_source=RSS_Feed&utm_medium=RSS',\n",
       "  'http://feeds.reuters.com/~r/Reuters/PoliticsNews/~3/4teH_A7KMjs/us-usa-immigration-chicago-idUSKBN18J005',\n",
       "  'http://www.huffingtonpost.com/2017/05/19/anthony-weiner-sex-addiction_n_16707886.html?utm_hp_ref=politics&ir=Politics',\n",
       "  'http://rss.cnn.com/~r/rss/cnn_allpolitics/~3/8oUSFzsitvc/index.html',\n",
       "  'http://feeds.foxnews.com/~r/foxnews/politics/~3/ezBOhKEXFDc/report-flynn-blocked-us-military-plan-that-turkey-opposed.html',\n",
       "  'http://feeds.foxnews.com/~r/foxnews/politics/~3/Syq9n44plIE/report-flynn-blocked-us-military-operation-that-turkey-opposed.html',\n",
       "  'http://rss.cnn.com/~r/rss/cnn_allpolitics/~3/8yOPBimC3dE/index.html',\n",
       "  'http://www.huffingtonpost.com/2017/05/17/michael-flynn-turkey-lobbying-reports_n_16680206.html?utm_hp_ref=politics&ir=Politics',\n",
       "  'http://www.cbsnews.com/news/report-before-trump-took-office-michael-flynn-blocked-military-plan-turkey-opposed/']}"
      ]
     },
     "execution_count": 19,
     "metadata": {},
     "output_type": "execute_result"
    }
   ],
   "source": []
  },
  {
   "cell_type": "code",
   "execution_count": null,
   "metadata": {
    "collapsed": true
   },
   "outputs": [],
   "source": []
  }
 ],
 "metadata": {
  "kernelspec": {
   "display_name": "Python 3",
   "language": "python",
   "name": "python3"
  },
  "language_info": {
   "codemirror_mode": {
    "name": "ipython",
    "version": 3
   },
   "file_extension": ".py",
   "mimetype": "text/x-python",
   "name": "python",
   "nbconvert_exporter": "python",
   "pygments_lexer": "ipython3",
   "version": "3.6.0"
  }
 },
 "nbformat": 4,
 "nbformat_minor": 2
}
