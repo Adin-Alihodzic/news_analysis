{
 "cells": [
  {
   "cell_type": "code",
   "execution_count": 56,
   "metadata": {
    "collapsed": false
   },
   "outputs": [],
   "source": [
    "import pickle\n",
    "import numpy as np\n",
    "import pandas as pd\n",
    "import multiprocessing as mp\n",
    "import pickle\n",
    "import matplotlib.pyplot as plt\n",
    "\n",
    "from data_exploration import process_articles\n",
    "from sentiment_analysis import topic_values, article_sentiment\n",
    "\n",
    "from bokeh.models import ColumnDataSource, OpenURL, TapTool, WheelZoomTool, HoverTool, LassoSelectTool, PanTool\n",
    "from bokeh.plotting import figure, output_file, show\n",
    "from bokeh.models.widgets import Panel, Tabs\n",
    "from bokeh.embed import components\n",
    "\n",
    "\n",
    "def make_plots(topic_dict, num_topics):\n",
    "    components_dict = {topic: {'script': '', 'div': ''} for topic in range(num_topics+1)}\n",
    "    for topic in range(num_topics+1):\n",
    "        print(topic)\n",
    "    # for topic in range(1):\n",
    "        output_file(\"../web_app/bokeh_plots/topic\"+str(topic)+\".html\")\n",
    "\n",
    "        hover = HoverTool(\n",
    "            tooltips=[\n",
    "                (\"source\", \"@site\"),\n",
    "                (\"(pos,neg)\", \"(@pos, @neg)\"),\n",
    "                (\"Headline\", \"@headline\")\n",
    "            ]\n",
    "        )\n",
    "\n",
    "        p = figure(plot_width=1200, plot_height=800,\n",
    "                    tools=[\"tap, pan, wheel_zoom\",hover], title=\"Topic: \"+str(topic),\n",
    "                  toolbar_location=\"right\")\n",
    "\n",
    "        # p.toolbar.active_drag = 'auto'\n",
    "\n",
    "        a = 0.9\n",
    "        colors = [(255, 0, 0), (0, 255, 0), (0, 0, 255), (0,100,0), (0, 0, 0), (100, 25, 200), (255, 255, 0), (0, 255, 255), (255, 0, 255), (128, 128, 128), (0, 0, 128), (240,230,140)]\n",
    "        # sources = ['cnn', 'abc', 'fox', 'nyt', 'reuters', 'wapo', 'huffpo', 'esquire', 'rollingstone', 'cbs', '538', 'washtimes']\n",
    "        sources = np.unique(topic_dict[topic]['source'])\n",
    "\n",
    "        pos_by_site = {site: [] for site in sources}\n",
    "        neg_by_site = {site: [] for site in sources}\n",
    "        size_by_site = {site: [] for site in sources}\n",
    "        url_by_site = {site: [] for site in sources}\n",
    "        headline_by_site = {site: [] for site in sources}\n",
    "        for site in sources:\n",
    "            indices = [j for j, s in enumerate(topic_dict[topic]['source']) if s == site]\n",
    "            if indices == []:\n",
    "                pass\n",
    "            else:\n",
    "                pos_by_site[site] = np.array(topic_dict[topic]['pos'])[indices]\n",
    "                neg_by_site[site] = np.array(topic_dict[topic]['neg'])[indices]\n",
    "                size_by_site[site] = [50*topic for topic in np.array(topic_dict[topic]['topic_prob'])[indices]]\n",
    "                url_by_site[site] = np.array(topic_dict[topic]['url'])[indices]\n",
    "                headline_by_site[site] = np.array(topic_dict[topic]['headline'])[indices]\n",
    "\n",
    "        for site, color in zip(sources, colors):\n",
    "            source = ColumnDataSource(data=dict(\n",
    "                pos=pos_by_site[site],\n",
    "                neg=neg_by_site[site],\n",
    "        #         color=[\"navy\", \"orange\", \"olive\", \"firebrick\", \"gold\"],\n",
    "                size=size_by_site[site],\n",
    "                site=[site for i in range(len(pos_by_site[site]))],\n",
    "                headline=headline_by_site[site],\n",
    "                url=url_by_site[site]\n",
    "            ))\n",
    "\n",
    "            p.circle('pos', 'neg', color=color, alpha=a, size='size', source=source, legend=site)\n",
    "\n",
    "            p.xaxis.axis_label = \"Positive Sentiment\"\n",
    "            p.yaxis.axis_label = \"Negative Sentiment\"\n",
    "\n",
    "            url = \"@url\"\n",
    "            taptool = p.select(type=TapTool)\n",
    "            taptool.callback = OpenURL(url=url)\n",
    "\n",
    "        script, div = components(p)\n",
    "        components_dict[topic]['script'] = script\n",
    "        components_dict[topic]['div'] = div\n",
    "\n",
    "    return components_dict"
   ]
  },
  {
   "cell_type": "code",
   "execution_count": 2,
   "metadata": {
    "collapsed": false
   },
   "outputs": [],
   "source": [
    "df = pd.read_csv('../data/rss_feeds_new_good.csv')\n",
    "df = df[pd.notnull(df['article_text'])]\n",
    "\n",
    "with open('../working_with_data/lda_model.pkl', 'rb') as f:\n",
    "    lda_model = pickle.load(f)\n",
    "\n",
    "num_topics = lda_model.num_topics"
   ]
  },
  {
   "cell_type": "code",
   "execution_count": 3,
   "metadata": {
    "collapsed": false
   },
   "outputs": [
    {
     "name": "stdout",
     "output_type": "stream",
     "text": [
      "Making topics dictionary...\n",
      "Processing Articles...\n",
      "Getting Sentiment...\n",
      "Getting article topics...\n",
      "Creating Dictionary...\n"
     ]
    }
   ],
   "source": [
    "print('Making topics dictionary...')\n",
    "topic_dict = topic_values(df, lda_model)"
   ]
  },
  {
   "cell_type": "code",
   "execution_count": 7,
   "metadata": {
    "collapsed": false
   },
   "outputs": [
    {
     "name": "stdout",
     "output_type": "stream",
     "text": [
      "Making Plots...\n"
     ]
    }
   ],
   "source": [
    "print('Making Plots...')\n",
    "components_dict = make_plots(topic_dict, num_topics)\n",
    "\n",
    "pickle.dump(components_dict, open('../web_app/bokeh_plots/components_dict.pkl', 'wb'))"
   ]
  },
  {
   "cell_type": "code",
   "execution_count": 36,
   "metadata": {
    "collapsed": true
   },
   "outputs": [],
   "source": [
    "from wordcloud import WordCloud\n",
    "def make_clouds(topic_texts, lda_model):\n",
    "    plt.imshow(WordCloud(background_color=\"white\", width=1200, height=800).generate(' '.join([' '.join(text) for text in topic_texts])), interpolation=\"bilinear\")\n",
    "    plt.axis(\"off\")\n",
    "    plt.title(\"Topic #0\")\n",
    "    plt.savefig('../web_app/static/img/wordclouds/wordcloud_topic0.png', dpi=300)\n",
    "    \n",
    "    for t in range(1, lda_model.num_topics+1):\n",
    "        print(t)\n",
    "        topic_word_probs = dict()\n",
    "        lda_topics = lda_model.show_topics(num_topics=-1, num_words=100000,formatted=False)\n",
    "        for word_prob in lda_topics[t-1][1]:\n",
    "            topic_word_probs[word_prob[0]] = word_prob[1]\n",
    "        plt.imshow(WordCloud(background_color=\"white\", width=1200, height=800).fit_words(topic_word_probs), interpolation=\"bilinear\")\n",
    "        plt.axis(\"off\")\n",
    "        plt.title(\"Topic #\" + str(t))\n",
    "        plt.savefig('../web_app/static/img/wordclouds/wordcloud_topic'+str(t)+'.png', dpi=300)"
   ]
  },
  {
   "cell_type": "code",
   "execution_count": 11,
   "metadata": {
    "collapsed": true
   },
   "outputs": [
    {
     "name": "stdout",
     "output_type": "stream",
     "text": [
      "Processing Articles...\n",
      "Making WordClouds...\n"
     ]
    },
    {
     "ename": "NameError",
     "evalue": "name 'WordCloud' is not defined",
     "output_type": "error",
     "traceback": [
      "\u001b[0;31m---------------------------------------------------------------------------\u001b[0m",
      "\u001b[0;31mNameError\u001b[0m                                 Traceback (most recent call last)",
      "\u001b[0;32m<ipython-input-11-e2c0eba3be11>\u001b[0m in \u001b[0;36m<module>\u001b[0;34m()\u001b[0m\n\u001b[1;32m      3\u001b[0m \u001b[0;34m\u001b[0m\u001b[0m\n\u001b[1;32m      4\u001b[0m \u001b[0mprint\u001b[0m\u001b[0;34m(\u001b[0m\u001b[0;34m'Making WordClouds...'\u001b[0m\u001b[0;34m)\u001b[0m\u001b[0;34m\u001b[0m\u001b[0m\n\u001b[0;32m----> 5\u001b[0;31m \u001b[0mmake_clouds\u001b[0m\u001b[0;34m(\u001b[0m\u001b[0mtopic_texts\u001b[0m\u001b[0;34m,\u001b[0m \u001b[0mlda_model\u001b[0m\u001b[0;34m)\u001b[0m\u001b[0;34m\u001b[0m\u001b[0m\n\u001b[0m",
      "\u001b[0;32m<ipython-input-10-21e4a5f238e0>\u001b[0m in \u001b[0;36mmake_clouds\u001b[0;34m(topic_texts, lda_model)\u001b[0m\n\u001b[1;32m      1\u001b[0m \u001b[0;32mdef\u001b[0m \u001b[0mmake_clouds\u001b[0m\u001b[0;34m(\u001b[0m\u001b[0mtopic_texts\u001b[0m\u001b[0;34m,\u001b[0m \u001b[0mlda_model\u001b[0m\u001b[0;34m)\u001b[0m\u001b[0;34m:\u001b[0m\u001b[0;34m\u001b[0m\u001b[0m\n\u001b[0;32m----> 2\u001b[0;31m     \u001b[0mplt\u001b[0m\u001b[0;34m.\u001b[0m\u001b[0mimshow\u001b[0m\u001b[0;34m(\u001b[0m\u001b[0mWordCloud\u001b[0m\u001b[0;34m(\u001b[0m\u001b[0mbackground_color\u001b[0m\u001b[0;34m=\u001b[0m\u001b[0;34m\"white\"\u001b[0m\u001b[0;34m,\u001b[0m \u001b[0mwidth\u001b[0m\u001b[0;34m=\u001b[0m\u001b[0;36m1200\u001b[0m\u001b[0;34m,\u001b[0m \u001b[0mheight\u001b[0m\u001b[0;34m=\u001b[0m\u001b[0;36m800\u001b[0m\u001b[0;34m)\u001b[0m\u001b[0;34m.\u001b[0m\u001b[0mgenerate\u001b[0m\u001b[0;34m(\u001b[0m\u001b[0mtopic_texts\u001b[0m\u001b[0;34m)\u001b[0m\u001b[0;34m,\u001b[0m \u001b[0minterpolation\u001b[0m\u001b[0;34m=\u001b[0m\u001b[0;34m\"bilinear\"\u001b[0m\u001b[0;34m)\u001b[0m\u001b[0;34m\u001b[0m\u001b[0m\n\u001b[0m\u001b[1;32m      3\u001b[0m     \u001b[0mplt\u001b[0m\u001b[0;34m.\u001b[0m\u001b[0maxis\u001b[0m\u001b[0;34m(\u001b[0m\u001b[0;34m\"off\"\u001b[0m\u001b[0;34m)\u001b[0m\u001b[0;34m\u001b[0m\u001b[0m\n\u001b[1;32m      4\u001b[0m     \u001b[0mplt\u001b[0m\u001b[0;34m.\u001b[0m\u001b[0mtitle\u001b[0m\u001b[0;34m(\u001b[0m\u001b[0;34m\"Topic #0\"\u001b[0m\u001b[0;34m)\u001b[0m\u001b[0;34m\u001b[0m\u001b[0m\n\u001b[1;32m      5\u001b[0m     \u001b[0mplt\u001b[0m\u001b[0;34m.\u001b[0m\u001b[0msavefig\u001b[0m\u001b[0;34m(\u001b[0m\u001b[0;34m'../web_app/static/img/wordclouds/wordcloud_topic0.png'\u001b[0m\u001b[0;34m,\u001b[0m \u001b[0mdpi\u001b[0m\u001b[0;34m=\u001b[0m\u001b[0;36m300\u001b[0m\u001b[0;34m)\u001b[0m\u001b[0;34m\u001b[0m\u001b[0m\n",
      "\u001b[0;31mNameError\u001b[0m: name 'WordCloud' is not defined"
     ]
    }
   ],
   "source": [
    "print('Processing Articles...')\n",
    "topic_texts, sentiment_texts = process_articles(df)"
   ]
  },
  {
   "cell_type": "code",
   "execution_count": 37,
   "metadata": {
    "collapsed": false
   },
   "outputs": [
    {
     "name": "stdout",
     "output_type": "stream",
     "text": [
      "Making WordClouds...\n",
      "1\n",
      "2\n",
      "3\n",
      "4\n",
      "5\n",
      "6\n",
      "7\n",
      "8\n",
      "9\n",
      "10\n",
      "11\n",
      "12\n",
      "13\n",
      "14\n",
      "15\n",
      "16\n",
      "17\n",
      "18\n",
      "19\n",
      "20\n",
      "21\n",
      "22\n",
      "23\n",
      "24\n",
      "25\n",
      "26\n",
      "27\n",
      "28\n",
      "29\n",
      "30\n",
      "31\n",
      "32\n",
      "33\n",
      "34\n",
      "35\n",
      "36\n",
      "37\n",
      "38\n",
      "39\n",
      "40\n"
     ]
    }
   ],
   "source": [
    "print('Making WordClouds...')\n",
    "make_clouds(topic_texts, lda_model)"
   ]
  },
  {
   "cell_type": "code",
   "execution_count": 40,
   "metadata": {
    "collapsed": true
   },
   "outputs": [],
   "source": [
    "from gensim.summarization import summarize\n",
    "from gensim.summarization import keywords\n",
    "from newspaper import Article\n",
    "import datetime"
   ]
  },
  {
   "cell_type": "code",
   "execution_count": 41,
   "metadata": {
    "collapsed": true
   },
   "outputs": [],
   "source": [
    "def get_article(url):\n",
    "    try:\n",
    "        a = Article(url)\n",
    "        attempt = 0\n",
    "        while a.html == '' and attempt < 10:\n",
    "            a = Article(url)\n",
    "            a.download()\n",
    "            attempt += 1\n",
    "        if attempt >= 10:\n",
    "            print('Article would not download!')\n",
    "            return False, ()\n",
    "        if a.is_downloaded:\n",
    "            a.parse()\n",
    "        else:\n",
    "            print('Article would not download!')\n",
    "            return False, ()\n",
    "    except:\n",
    "        return 'Article would not download!'\n",
    "    try:\n",
    "        headline = a.title\n",
    "    except:\n",
    "        return False, ()\n",
    "    try:\n",
    "        date_published = a.publish_date\n",
    "        if date_published == '' or date_published == None:\n",
    "            date_published = datetime.datetime.now()\n",
    "    except:\n",
    "        date_published = datetime.datetime.now()\n",
    "    try:\n",
    "        author = a.authors\n",
    "    except:\n",
    "        author = None\n",
    "    try:\n",
    "        article_text = a.text\n",
    "    except:\n",
    "        return False, ()\n",
    "\n",
    "    return True, (article_text, headline, author, date_published)"
   ]
  },
  {
   "cell_type": "code",
   "execution_count": 42,
   "metadata": {
    "collapsed": true
   },
   "outputs": [],
   "source": [
    "def get_summary(article_text):\n",
    "    '''Uses summarization function from gensim library to summarize each article'''\n",
    "    summary = ''\n",
    "    try:\n",
    "        summary = summarize(article_text)\n",
    "    except:\n",
    "        summary = ''\n",
    "\n",
    "    return summary"
   ]
  },
  {
   "cell_type": "code",
   "execution_count": 44,
   "metadata": {
    "collapsed": false
   },
   "outputs": [
    {
     "name": "stderr",
     "output_type": "stream",
     "text": [
      "/home/ian/anaconda3/lib/python3.6/site-packages/newspaper/parsers.py:250: DeprecationWarning: The unescape method is deprecated and will be removed in 3.5, use html.unescape() instead.\n",
      "  attr = HTMLParser().unescape(attr)\n",
      "/home/ian/anaconda3/lib/python3.6/site-packages/newspaper/parsers.py:250: DeprecationWarning: The unescape method is deprecated and will be removed in 3.5, use html.unescape() instead.\n",
      "  attr = HTMLParser().unescape(attr)\n",
      "/home/ian/anaconda3/lib/python3.6/site-packages/newspaper/parsers.py:250: DeprecationWarning: The unescape method is deprecated and will be removed in 3.5, use html.unescape() instead.\n",
      "  attr = HTMLParser().unescape(attr)\n",
      "/home/ian/anaconda3/lib/python3.6/site-packages/newspaper/parsers.py:250: DeprecationWarning: The unescape method is deprecated and will be removed in 3.5, use html.unescape() instead.\n",
      "  attr = HTMLParser().unescape(attr)\n",
      "/home/ian/anaconda3/lib/python3.6/site-packages/newspaper/parsers.py:250: DeprecationWarning: The unescape method is deprecated and will be removed in 3.5, use html.unescape() instead.\n",
      "  attr = HTMLParser().unescape(attr)\n",
      "/home/ian/anaconda3/lib/python3.6/site-packages/newspaper/parsers.py:250: DeprecationWarning: The unescape method is deprecated and will be removed in 3.5, use html.unescape() instead.\n",
      "  attr = HTMLParser().unescape(attr)\n",
      "/home/ian/anaconda3/lib/python3.6/site-packages/newspaper/parsers.py:250: DeprecationWarning: The unescape method is deprecated and will be removed in 3.5, use html.unescape() instead.\n",
      "  attr = HTMLParser().unescape(attr)\n",
      "/home/ian/anaconda3/lib/python3.6/site-packages/newspaper/parsers.py:250: DeprecationWarning: The unescape method is deprecated and will be removed in 3.5, use html.unescape() instead.\n",
      "  attr = HTMLParser().unescape(attr)\n",
      "/home/ian/anaconda3/lib/python3.6/site-packages/newspaper/parsers.py:250: DeprecationWarning: The unescape method is deprecated and will be removed in 3.5, use html.unescape() instead.\n",
      "  attr = HTMLParser().unescape(attr)\n",
      "/home/ian/anaconda3/lib/python3.6/site-packages/newspaper/parsers.py:250: DeprecationWarning: The unescape method is deprecated and will be removed in 3.5, use html.unescape() instead.\n",
      "  attr = HTMLParser().unescape(attr)\n",
      "/home/ian/anaconda3/lib/python3.6/site-packages/newspaper/parsers.py:250: DeprecationWarning: The unescape method is deprecated and will be removed in 3.5, use html.unescape() instead.\n",
      "  attr = HTMLParser().unescape(attr)\n",
      "/home/ian/anaconda3/lib/python3.6/site-packages/newspaper/parsers.py:250: DeprecationWarning: The unescape method is deprecated and will be removed in 3.5, use html.unescape() instead.\n",
      "  attr = HTMLParser().unescape(attr)\n",
      "/home/ian/anaconda3/lib/python3.6/site-packages/newspaper/parsers.py:250: DeprecationWarning: The unescape method is deprecated and will be removed in 3.5, use html.unescape() instead.\n",
      "  attr = HTMLParser().unescape(attr)\n",
      "/home/ian/anaconda3/lib/python3.6/site-packages/newspaper/parsers.py:250: DeprecationWarning: The unescape method is deprecated and will be removed in 3.5, use html.unescape() instead.\n",
      "  attr = HTMLParser().unescape(attr)\n",
      "/home/ian/anaconda3/lib/python3.6/site-packages/newspaper/parsers.py:250: DeprecationWarning: The unescape method is deprecated and will be removed in 3.5, use html.unescape() instead.\n",
      "  attr = HTMLParser().unescape(attr)\n",
      "/home/ian/anaconda3/lib/python3.6/site-packages/newspaper/parsers.py:250: DeprecationWarning: The unescape method is deprecated and will be removed in 3.5, use html.unescape() instead.\n",
      "  attr = HTMLParser().unescape(attr)\n",
      "/home/ian/anaconda3/lib/python3.6/site-packages/newspaper/parsers.py:250: DeprecationWarning: The unescape method is deprecated and will be removed in 3.5, use html.unescape() instead.\n",
      "  attr = HTMLParser().unescape(attr)\n",
      "/home/ian/anaconda3/lib/python3.6/site-packages/newspaper/parsers.py:250: DeprecationWarning: The unescape method is deprecated and will be removed in 3.5, use html.unescape() instead.\n",
      "  attr = HTMLParser().unescape(attr)\n",
      "/home/ian/anaconda3/lib/python3.6/site-packages/newspaper/parsers.py:250: DeprecationWarning: The unescape method is deprecated and will be removed in 3.5, use html.unescape() instead.\n",
      "  attr = HTMLParser().unescape(attr)\n",
      "/home/ian/anaconda3/lib/python3.6/site-packages/newspaper/parsers.py:250: DeprecationWarning: The unescape method is deprecated and will be removed in 3.5, use html.unescape() instead.\n",
      "  attr = HTMLParser().unescape(attr)\n",
      "/home/ian/anaconda3/lib/python3.6/site-packages/newspaper/parsers.py:250: DeprecationWarning: The unescape method is deprecated and will be removed in 3.5, use html.unescape() instead.\n",
      "  attr = HTMLParser().unescape(attr)\n",
      "/home/ian/anaconda3/lib/python3.6/site-packages/newspaper/parsers.py:250: DeprecationWarning: The unescape method is deprecated and will be removed in 3.5, use html.unescape() instead.\n",
      "  attr = HTMLParser().unescape(attr)\n",
      "/home/ian/anaconda3/lib/python3.6/site-packages/newspaper/parsers.py:250: DeprecationWarning: The unescape method is deprecated and will be removed in 3.5, use html.unescape() instead.\n",
      "  attr = HTMLParser().unescape(attr)\n",
      "/home/ian/anaconda3/lib/python3.6/site-packages/newspaper/parsers.py:250: DeprecationWarning: The unescape method is deprecated and will be removed in 3.5, use html.unescape() instead.\n",
      "  attr = HTMLParser().unescape(attr)\n",
      "/home/ian/anaconda3/lib/python3.6/site-packages/newspaper/parsers.py:250: DeprecationWarning: The unescape method is deprecated and will be removed in 3.5, use html.unescape() instead.\n",
      "  attr = HTMLParser().unescape(attr)\n",
      "/home/ian/anaconda3/lib/python3.6/site-packages/newspaper/parsers.py:250: DeprecationWarning: The unescape method is deprecated and will be removed in 3.5, use html.unescape() instead.\n",
      "  attr = HTMLParser().unescape(attr)\n",
      "/home/ian/anaconda3/lib/python3.6/site-packages/newspaper/parsers.py:250: DeprecationWarning: The unescape method is deprecated and will be removed in 3.5, use html.unescape() instead.\n",
      "  attr = HTMLParser().unescape(attr)\n",
      "/home/ian/anaconda3/lib/python3.6/site-packages/newspaper/parsers.py:250: DeprecationWarning: The unescape method is deprecated and will be removed in 3.5, use html.unescape() instead.\n",
      "  attr = HTMLParser().unescape(attr)\n",
      "/home/ian/anaconda3/lib/python3.6/site-packages/newspaper/parsers.py:250: DeprecationWarning: The unescape method is deprecated and will be removed in 3.5, use html.unescape() instead.\n",
      "  attr = HTMLParser().unescape(attr)\n",
      "/home/ian/anaconda3/lib/python3.6/site-packages/newspaper/parsers.py:250: DeprecationWarning: The unescape method is deprecated and will be removed in 3.5, use html.unescape() instead.\n",
      "  attr = HTMLParser().unescape(attr)\n",
      "/home/ian/anaconda3/lib/python3.6/site-packages/newspaper/parsers.py:250: DeprecationWarning: The unescape method is deprecated and will be removed in 3.5, use html.unescape() instead.\n",
      "  attr = HTMLParser().unescape(attr)\n",
      "/home/ian/anaconda3/lib/python3.6/site-packages/newspaper/parsers.py:250: DeprecationWarning: The unescape method is deprecated and will be removed in 3.5, use html.unescape() instead.\n",
      "  attr = HTMLParser().unescape(attr)\n",
      "/home/ian/anaconda3/lib/python3.6/site-packages/newspaper/parsers.py:250: DeprecationWarning: The unescape method is deprecated and will be removed in 3.5, use html.unescape() instead.\n",
      "  attr = HTMLParser().unescape(attr)\n",
      "/home/ian/anaconda3/lib/python3.6/site-packages/newspaper/parsers.py:250: DeprecationWarning: The unescape method is deprecated and will be removed in 3.5, use html.unescape() instead.\n",
      "  attr = HTMLParser().unescape(attr)\n",
      "/home/ian/anaconda3/lib/python3.6/site-packages/newspaper/parsers.py:250: DeprecationWarning: The unescape method is deprecated and will be removed in 3.5, use html.unescape() instead.\n",
      "  attr = HTMLParser().unescape(attr)\n",
      "/home/ian/anaconda3/lib/python3.6/site-packages/newspaper/parsers.py:250: DeprecationWarning: The unescape method is deprecated and will be removed in 3.5, use html.unescape() instead.\n",
      "  attr = HTMLParser().unescape(attr)\n",
      "/home/ian/anaconda3/lib/python3.6/site-packages/newspaper/parsers.py:250: DeprecationWarning: The unescape method is deprecated and will be removed in 3.5, use html.unescape() instead.\n",
      "  attr = HTMLParser().unescape(attr)\n",
      "/home/ian/anaconda3/lib/python3.6/site-packages/newspaper/parsers.py:250: DeprecationWarning: The unescape method is deprecated and will be removed in 3.5, use html.unescape() instead.\n",
      "  attr = HTMLParser().unescape(attr)\n",
      "/home/ian/anaconda3/lib/python3.6/site-packages/newspaper/parsers.py:250: DeprecationWarning: The unescape method is deprecated and will be removed in 3.5, use html.unescape() instead.\n",
      "  attr = HTMLParser().unescape(attr)\n",
      "/home/ian/anaconda3/lib/python3.6/site-packages/newspaper/parsers.py:250: DeprecationWarning: The unescape method is deprecated and will be removed in 3.5, use html.unescape() instead.\n",
      "  attr = HTMLParser().unescape(attr)\n",
      "/home/ian/anaconda3/lib/python3.6/site-packages/newspaper/parsers.py:250: DeprecationWarning: The unescape method is deprecated and will be removed in 3.5, use html.unescape() instead.\n",
      "  attr = HTMLParser().unescape(attr)\n",
      "/home/ian/anaconda3/lib/python3.6/site-packages/newspaper/parsers.py:250: DeprecationWarning: The unescape method is deprecated and will be removed in 3.5, use html.unescape() instead.\n",
      "  attr = HTMLParser().unescape(attr)\n",
      "/home/ian/anaconda3/lib/python3.6/site-packages/newspaper/parsers.py:250: DeprecationWarning: The unescape method is deprecated and will be removed in 3.5, use html.unescape() instead.\n",
      "  attr = HTMLParser().unescape(attr)\n",
      "/home/ian/anaconda3/lib/python3.6/site-packages/newspaper/parsers.py:250: DeprecationWarning: The unescape method is deprecated and will be removed in 3.5, use html.unescape() instead.\n",
      "  attr = HTMLParser().unescape(attr)\n",
      "/home/ian/anaconda3/lib/python3.6/site-packages/newspaper/parsers.py:250: DeprecationWarning: The unescape method is deprecated and will be removed in 3.5, use html.unescape() instead.\n",
      "  attr = HTMLParser().unescape(attr)\n",
      "/home/ian/anaconda3/lib/python3.6/site-packages/newspaper/parsers.py:250: DeprecationWarning: The unescape method is deprecated and will be removed in 3.5, use html.unescape() instead.\n",
      "  attr = HTMLParser().unescape(attr)\n",
      "/home/ian/anaconda3/lib/python3.6/site-packages/newspaper/parsers.py:250: DeprecationWarning: The unescape method is deprecated and will be removed in 3.5, use html.unescape() instead.\n",
      "  attr = HTMLParser().unescape(attr)\n",
      "/home/ian/anaconda3/lib/python3.6/site-packages/newspaper/parsers.py:250: DeprecationWarning: The unescape method is deprecated and will be removed in 3.5, use html.unescape() instead.\n",
      "  attr = HTMLParser().unescape(attr)\n",
      "/home/ian/anaconda3/lib/python3.6/site-packages/newspaper/parsers.py:250: DeprecationWarning: The unescape method is deprecated and will be removed in 3.5, use html.unescape() instead.\n",
      "  attr = HTMLParser().unescape(attr)\n",
      "/home/ian/anaconda3/lib/python3.6/site-packages/newspaper/parsers.py:250: DeprecationWarning: The unescape method is deprecated and will be removed in 3.5, use html.unescape() instead.\n",
      "  attr = HTMLParser().unescape(attr)\n",
      "/home/ian/anaconda3/lib/python3.6/site-packages/newspaper/parsers.py:250: DeprecationWarning: The unescape method is deprecated and will be removed in 3.5, use html.unescape() instead.\n",
      "  attr = HTMLParser().unescape(attr)\n",
      "/home/ian/anaconda3/lib/python3.6/site-packages/newspaper/parsers.py:250: DeprecationWarning: The unescape method is deprecated and will be removed in 3.5, use html.unescape() instead.\n",
      "  attr = HTMLParser().unescape(attr)\n",
      "/home/ian/anaconda3/lib/python3.6/site-packages/newspaper/parsers.py:250: DeprecationWarning: The unescape method is deprecated and will be removed in 3.5, use html.unescape() instead.\n",
      "  attr = HTMLParser().unescape(attr)\n",
      "/home/ian/anaconda3/lib/python3.6/site-packages/newspaper/parsers.py:250: DeprecationWarning: The unescape method is deprecated and will be removed in 3.5, use html.unescape() instead.\n",
      "  attr = HTMLParser().unescape(attr)\n",
      "/home/ian/anaconda3/lib/python3.6/site-packages/newspaper/parsers.py:250: DeprecationWarning: The unescape method is deprecated and will be removed in 3.5, use html.unescape() instead.\n",
      "  attr = HTMLParser().unescape(attr)\n",
      "/home/ian/anaconda3/lib/python3.6/site-packages/newspaper/parsers.py:250: DeprecationWarning: The unescape method is deprecated and will be removed in 3.5, use html.unescape() instead.\n",
      "  attr = HTMLParser().unescape(attr)\n",
      "/home/ian/anaconda3/lib/python3.6/site-packages/newspaper/parsers.py:250: DeprecationWarning: The unescape method is deprecated and will be removed in 3.5, use html.unescape() instead.\n",
      "  attr = HTMLParser().unescape(attr)\n",
      "/home/ian/anaconda3/lib/python3.6/site-packages/newspaper/outputformatters.py:73: DeprecationWarning: The unescape method is deprecated and will be removed in 3.5, use html.unescape() instead.\n",
      "  txt = HTMLParser().unescape(txt)\n",
      "/home/ian/anaconda3/lib/python3.6/site-packages/newspaper/outputformatters.py:73: DeprecationWarning: The unescape method is deprecated and will be removed in 3.5, use html.unescape() instead.\n",
      "  txt = HTMLParser().unescape(txt)\n",
      "/home/ian/anaconda3/lib/python3.6/site-packages/newspaper/outputformatters.py:73: DeprecationWarning: The unescape method is deprecated and will be removed in 3.5, use html.unescape() instead.\n",
      "  txt = HTMLParser().unescape(txt)\n",
      "/home/ian/anaconda3/lib/python3.6/site-packages/newspaper/outputformatters.py:73: DeprecationWarning: The unescape method is deprecated and will be removed in 3.5, use html.unescape() instead.\n",
      "  txt = HTMLParser().unescape(txt)\n",
      "/home/ian/anaconda3/lib/python3.6/site-packages/newspaper/outputformatters.py:73: DeprecationWarning: The unescape method is deprecated and will be removed in 3.5, use html.unescape() instead.\n",
      "  txt = HTMLParser().unescape(txt)\n",
      "/home/ian/anaconda3/lib/python3.6/site-packages/newspaper/outputformatters.py:73: DeprecationWarning: The unescape method is deprecated and will be removed in 3.5, use html.unescape() instead.\n",
      "  txt = HTMLParser().unescape(txt)\n",
      "/home/ian/anaconda3/lib/python3.6/site-packages/newspaper/outputformatters.py:73: DeprecationWarning: The unescape method is deprecated and will be removed in 3.5, use html.unescape() instead.\n",
      "  txt = HTMLParser().unescape(txt)\n",
      "/home/ian/anaconda3/lib/python3.6/site-packages/newspaper/outputformatters.py:73: DeprecationWarning: The unescape method is deprecated and will be removed in 3.5, use html.unescape() instead.\n",
      "  txt = HTMLParser().unescape(txt)\n",
      "/home/ian/anaconda3/lib/python3.6/site-packages/newspaper/outputformatters.py:73: DeprecationWarning: The unescape method is deprecated and will be removed in 3.5, use html.unescape() instead.\n",
      "  txt = HTMLParser().unescape(txt)\n",
      "/home/ian/anaconda3/lib/python3.6/site-packages/newspaper/outputformatters.py:73: DeprecationWarning: The unescape method is deprecated and will be removed in 3.5, use html.unescape() instead.\n",
      "  txt = HTMLParser().unescape(txt)\n",
      "/home/ian/anaconda3/lib/python3.6/site-packages/newspaper/outputformatters.py:73: DeprecationWarning: The unescape method is deprecated and will be removed in 3.5, use html.unescape() instead.\n",
      "  txt = HTMLParser().unescape(txt)\n",
      "/home/ian/anaconda3/lib/python3.6/site-packages/newspaper/outputformatters.py:73: DeprecationWarning: The unescape method is deprecated and will be removed in 3.5, use html.unescape() instead.\n",
      "  txt = HTMLParser().unescape(txt)\n",
      "/home/ian/anaconda3/lib/python3.6/site-packages/newspaper/outputformatters.py:73: DeprecationWarning: The unescape method is deprecated and will be removed in 3.5, use html.unescape() instead.\n",
      "  txt = HTMLParser().unescape(txt)\n",
      "/home/ian/anaconda3/lib/python3.6/site-packages/newspaper/parsers.py:250: DeprecationWarning: The unescape method is deprecated and will be removed in 3.5, use html.unescape() instead.\n",
      "  attr = HTMLParser().unescape(attr)\n"
     ]
    }
   ],
   "source": [
    "result = get_article('http://www.msnbc.com/rachel-maddow-show/trump-sets-contest-credibility-he-simply-cannot-win')"
   ]
  },
  {
   "cell_type": "code",
   "execution_count": 51,
   "metadata": {
    "collapsed": true
   },
   "outputs": [],
   "source": [
    "import warnings\n",
    "# Gensim gives annoying warnings\n",
    "warnings.filterwarnings('ignore')"
   ]
  },
  {
   "cell_type": "code",
   "execution_count": 88,
   "metadata": {
    "collapsed": false
   },
   "outputs": [],
   "source": [
    "url = 'http://www.breitbart.com/big-government/2017/05/26/climate-change-cohn-trump/'\n",
    "result = get_article(url)\n",
    "if result[0] != False:\n",
    "    article_text, headline, author, date_published = result[1]\n",
    "    summary = get_summary(article_text)"
   ]
  },
  {
   "cell_type": "code",
   "execution_count": 89,
   "metadata": {
    "collapsed": false
   },
   "outputs": [
    {
     "name": "stdout",
     "output_type": "stream",
     "text": [
      "White House economic advisor Gary Cohn made the curious comment in Sicily on Friday that President Donald Trump’s views on climate change were “evolving.”\n",
      "“Evolution” could mean moving towards the alarmist consensus of the left — or it could also mean toward a skeptical view, one more carefully informed by scientific and economic reality.\n",
      "Again, that could mean Trump is growing skeptical of the alarmist, non-scientific view around which our public debate on climate change revolves.\n",
      "It is also possible that Cohn was shaping his assessment of the president’s views to flatter his largely European audience, which believes in climate change the way people on other continents believe in religion.\n"
     ]
    }
   ],
   "source": [
    "print(summary)"
   ]
  },
  {
   "cell_type": "code",
   "execution_count": 68,
   "metadata": {
    "collapsed": true
   },
   "outputs": [],
   "source": [
    "def get_sentiment(word):\n",
    "    mean_pos = 0\n",
    "    mean_neg = 0\n",
    "    mean_obj = 0\n",
    "    score = 0\n",
    "    bias = 0\n",
    "    for similar_words in swn.senti_synsets(word):\n",
    "        mean_pos += similar_words.pos_score()\n",
    "        mean_neg += similar_words.neg_score()\n",
    "        mean_obj += similar_words.obj_score()\n",
    "    size = len(list(swn.senti_synsets(word)))\n",
    "    if size != 0:\n",
    "        mean_pos = mean_pos/size\n",
    "        mean_neg = mean_neg/size\n",
    "        mean_obj = mean_obj/size\n",
    "        score = (mean_pos - mean_neg)*(1-mean_obj)\n",
    "        bias = (mean_pos + mean_neg) * (1-mean_obj)\n",
    "    return mean_pos, mean_neg, mean_obj"
   ]
  },
  {
   "cell_type": "code",
   "execution_count": 76,
   "metadata": {
    "collapsed": true
   },
   "outputs": [],
   "source": [
    "import nltk\n",
    "from nltk.corpus import sentiwordnet as swn\n",
    "def get_article_sentiment(topic_texts, sentiment_texts):\n",
    "\n",
    "    sentiment_texts_words = set()\n",
    "    for i in range(len(sentiment_texts)):\n",
    "        sentiment_texts_words = sentiment_texts_words | set(sentiment_texts[i])\n",
    "    sentiment_texts_words = list(sentiment_texts_words)\n",
    "\n",
    "    relevant_types = ['JJ', 'VB', 'RB']\n",
    "\n",
    "    s_pos = 0\n",
    "    s_neg = 0\n",
    "    s_obj = 0\n",
    "    relevant_word_count = 0\n",
    "    for word in sentiment_texts_words:\n",
    "        for word, word_type in nltk.pos_tag([word]):\n",
    "            if word_type in relevant_types:\n",
    "                relevant_word_count += 1\n",
    "                pos, neg, obj = get_sentiment(word)\n",
    "                if pos == 0 and neg == 0:\n",
    "                    pass\n",
    "                else:\n",
    "                    s_pos += pos\n",
    "                    s_neg += neg\n",
    "                    s_obj += obj\n",
    "    if relevant_word_count != 0:\n",
    "         s_pos, s_neg, s_obj = s_pos/relevant_word_count, s_neg/relevant_word_count, s_obj/relevant_word_count\n",
    "\n",
    "    return s_pos, s_neg, s_obj"
   ]
  },
  {
   "cell_type": "code",
   "execution_count": 90,
   "metadata": {
    "collapsed": true
   },
   "outputs": [],
   "source": [
    "data = {'article_text': article_text, 'headline': headline}\n",
    "df = pd.DataFrame(data, index=[0])\n",
    "\n",
    "topic_texts, sentiment_texts = process_articles(df)"
   ]
  },
  {
   "cell_type": "code",
   "execution_count": 91,
   "metadata": {
    "collapsed": false
   },
   "outputs": [],
   "source": [
    "pos, neg, obj = get_article_sentiment(topic_texts, sentiment_texts)"
   ]
  },
  {
   "cell_type": "code",
   "execution_count": 92,
   "metadata": {
    "collapsed": false
   },
   "outputs": [
    {
     "name": "stdout",
     "output_type": "stream",
     "text": [
      "0.1136050067216734 0.08394987049987049 0.5802229005562338\n"
     ]
    }
   ],
   "source": [
    "print(pos, neg, obj)"
   ]
  },
  {
   "cell_type": "code",
   "execution_count": 80,
   "metadata": {
    "collapsed": true
   },
   "outputs": [],
   "source": [
    "with open('../working_with_data/lda_model.pkl', 'rb') as f:\n",
    "    lda_model = pickle.load(f)"
   ]
  },
  {
   "cell_type": "code",
   "execution_count": 93,
   "metadata": {
    "collapsed": false
   },
   "outputs": [],
   "source": [
    "article_bow = lda_model.id2word.doc2bow(topic_texts[0])\n",
    "article_topics = lda_model[article_bow]"
   ]
  },
  {
   "cell_type": "code",
   "execution_count": 94,
   "metadata": {
    "collapsed": false
   },
   "outputs": [
    {
     "data": {
      "text/plain": [
       "[(4, 0.14232095324779889),\n",
       " (15, 0.37401657863751547),\n",
       " (27, 0.026002139744159675),\n",
       " (32, 0.41432412790623541),\n",
       " (38, 0.040648909704769254)]"
      ]
     },
     "execution_count": 94,
     "metadata": {},
     "output_type": "execute_result"
    }
   ],
   "source": [
    "article_topics"
   ]
  },
  {
   "cell_type": "code",
   "execution_count": null,
   "metadata": {
    "collapsed": true
   },
   "outputs": [],
   "source": []
  }
 ],
 "metadata": {
  "kernelspec": {
   "display_name": "Python 3",
   "language": "python",
   "name": "python3"
  },
  "language_info": {
   "codemirror_mode": {
    "name": "ipython",
    "version": 3
   },
   "file_extension": ".py",
   "mimetype": "text/x-python",
   "name": "python",
   "nbconvert_exporter": "python",
   "pygments_lexer": "ipython3",
   "version": "3.6.0"
  }
 },
 "nbformat": 4,
 "nbformat_minor": 2
}
