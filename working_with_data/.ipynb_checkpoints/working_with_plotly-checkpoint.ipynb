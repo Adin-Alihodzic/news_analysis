{
 "cells": [
  {
   "cell_type": "code",
   "execution_count": 18,
   "metadata": {
    "collapsed": true
   },
   "outputs": [],
   "source": [
    "import plotly.plotly as py\n",
    "from plotly.graph_objs import Scatter\n",
    "from IPython.display import Image"
   ]
  },
  {
   "cell_type": "code",
   "execution_count": 19,
   "metadata": {
    "collapsed": false
   },
   "outputs": [],
   "source": [
    "from plotly.widgets import GraphWidget"
   ]
  },
  {
   "cell_type": "code",
   "execution_count": 25,
   "metadata": {
    "collapsed": false
   },
   "outputs": [
    {
     "name": "stdout",
     "output_type": "stream",
     "text": [
      "High five! You successfuly sent some data to your account on plotly. View your plot in your browser at https://plot.ly/~mcian91/0 or inside your plot.ly account where it is named 'widget template'\n"
     ]
    }
   ],
   "source": [
    "url = py.plot({'data': [Scatter(x=[1, 2, 3], y=[4, 6, 9]), Scatter(x=[1, 2, 3], y=[10, 30, 20])]}, \n",
    "               filename = 'widget template', auto_open=False)\n"
   ]
  },
  {
   "cell_type": "code",
   "execution_count": 21,
   "metadata": {
    "collapsed": true
   },
   "outputs": [],
   "source": [
    "graph = GraphWidget(url)\n",
    "g = graph\n",
    "from IPython.display import Image, display, clear_output\n",
    "display(graph)"
   ]
  },
  {
   "cell_type": "code",
   "execution_count": 22,
   "metadata": {
    "collapsed": false
   },
   "outputs": [],
   "source": [
    "from IPython.display import display, clear_output\n",
    "def message_handler(widget, msg):\n",
    "    clear_output()\n",
    "    print(widget._graph_url)\n",
    "    display(msg)\n",
    "\n",
    "g.on_click(message_handler)"
   ]
  },
  {
   "cell_type": "code",
   "execution_count": 23,
   "metadata": {
    "collapsed": false
   },
   "outputs": [
    {
     "data": {
      "text/html": [
       "<img src=url>"
      ],
      "text/plain": [
       "<IPython.core.display.HTML object>"
      ]
     },
     "metadata": {},
     "output_type": "display_data"
    }
   ],
   "source": [
    "%%html\n",
    "<img src=url>"
   ]
  },
  {
   "cell_type": "code",
   "execution_count": 26,
   "metadata": {
    "collapsed": false
   },
   "outputs": [
    {
     "name": "stdout",
     "output_type": "stream",
     "text": [
      "https://plot.ly/~mcian91/0\n"
     ]
    },
    {
     "data": {
      "text/html": [
       "<img src=\"https://plot.ly/~mcian91/0\"/>"
      ],
      "text/plain": [
       "<IPython.core.display.Image object>"
      ]
     },
     "execution_count": 26,
     "metadata": {},
     "output_type": "execute_result"
    }
   ],
   "source": [
    "print(url)\n",
    "from IPython.display import Image\n",
    "Image(url=url)"
   ]
  },
  {
   "cell_type": "code",
   "execution_count": 28,
   "metadata": {
    "collapsed": true
   },
   "outputs": [],
   "source": [
    "contour_fig = py.get_figure(url)"
   ]
  },
  {
   "cell_type": "code",
   "execution_count": 29,
   "metadata": {
    "collapsed": false
   },
   "outputs": [],
   "source": [
    "def march(x0, y0, x1, y1):\n",
    "    '''\n",
    "    Return the closest path of integer coordinates \n",
    "    between (x0, y0) and (x1, y1)\n",
    "    '''\n",
    "    if abs(x1-x0) > abs(y1-y0):    \n",
    "        if x1>x0:\n",
    "            x = range(int(x0), int(x1)+1)\n",
    "        else:\n",
    "            x = range(int(x0), int(x1)+1, -1)\n",
    "        y = []\n",
    "        tanth = (y1-y0)/(x1-x0)\n",
    "        for xi in x:\n",
    "            y.append(round(y0+(xi-x0)*tanth))\n",
    "    else:\n",
    "        if y1>y0:\n",
    "            y = range(int(y0), int(y1)+1)\n",
    "        else:\n",
    "            y = range(int(y0), int(y1)+1, -1)\n",
    "        x = []\n",
    "        tanth = (x1-x0)/(y1-y0)\n",
    "        for yi in y:\n",
    "            x.append(round(x0+(yi-y0)*tanth))\n",
    "\n",
    "    return (x, y)\n",
    "\n",
    "class Responder(object):\n",
    "    '''\n",
    "    Stateful object that stores and computes the \n",
    "    elevation and distance data of the \n",
    "    line plot. The 'click' method is executed\n",
    "    on `click` events of the contour map.\n",
    "    '''\n",
    "    def __init__(self, data):\n",
    "        self.clicks = 0\n",
    "        self.x = []\n",
    "        self.y = []\n",
    "        self.xp = []\n",
    "        self.yp = []\n",
    "        self.z = []\n",
    "        self.d = []\n",
    "        self.data = data\n",
    "\n",
    "    def append_point(self, point):\n",
    "        xp = point['pointNumber'][1]\n",
    "        yp = point['pointNumber'][0]\n",
    "        self.xp.append(xp)\n",
    "        self.yp.append(yp)\n",
    "\n",
    "        if 'x' in self.data[0]:\n",
    "            x = self.data[0]['x'][xp]\n",
    "        else:\n",
    "            x = xp\n",
    "        if 'y' in self.data[0]:\n",
    "            y = self.data[0]['y'][xp]\n",
    "        else:\n",
    "            y = yp\n",
    "\n",
    "        self.x.append(x)\n",
    "        self.y.append(y)\n",
    "        self.z.append(point['z'])\n",
    "    \n",
    "        if len(self.x) == 1:\n",
    "            self.d.append(0)\n",
    "        else:\n",
    "            self.d.append(math.sqrt((y-self.y[-2])**2+(x-self.x[-2])**2))\n",
    "        \n",
    "        \n",
    "    def click(self, contour_widget, click_obj):\n",
    "        point = click_obj[0]\n",
    "        if self.clicks==0 or self.clicks > 5:\n",
    "            self.__init__(self.data)\n",
    "            self.append_point(point)\n",
    "        else:\n",
    "            \n",
    "            (xpath, ypath) = march(self.xp[-1], self.yp[-1],\n",
    "                                   point['pointNumber'][1], point['pointNumber'][0])\n",
    "    \n",
    "            d = []\n",
    "            z = []\n",
    "            for i in range(1, len(xpath)):\n",
    "                xpi = xpath[i]\n",
    "                ypi = ypath[i]\n",
    "\n",
    "                if 'x' in self.data[0]:\n",
    "                    xi = self.data[0]['x'][xpi]\n",
    "                else:\n",
    "                    xi = xpi\n",
    "                if 'y' in self.data[0]:\n",
    "                    yi = self.data[0]['y'][ypi]\n",
    "                else:\n",
    "                    yi = ypi\n",
    "                \n",
    "                self.d.append(self.d[-1]+math.sqrt((yi-self.y[-1])**2+(xi-self.x[-1])**2))\n",
    "                self.z.append(self.data[0]['z'][int(ypi)][int(xpi)])\n",
    "                self.x.append(xi)\n",
    "                self.y.append(yi)\n",
    "                self.xp.append(xpi)\n",
    "                self.yp.append(ypi)\n",
    "            \n",
    "\n",
    "        self.clicks+=1\n",
    "        \n",
    "        line_plot.restyle({'x': [self.d], 'y': [self.z]})\n",
    "\n",
    "    \n",
    "r = Responder(contour_fig['data'])"
   ]
  },
  {
   "cell_type": "code",
   "execution_count": 35,
   "metadata": {
    "collapsed": false
   },
   "outputs": [],
   "source": [
    "g.on_click(r.click)"
   ]
  },
  {
   "cell_type": "code",
   "execution_count": 34,
   "metadata": {
    "collapsed": false
   },
   "outputs": [
    {
     "ename": "TypeError",
     "evalue": "HTML expects text, not <http.client.HTTPResponse object at 0x7fb05cd52f98>",
     "output_type": "error",
     "traceback": [
      "\u001b[0;31m---------------------------------------------------------------------------\u001b[0m",
      "\u001b[0;31mTypeError\u001b[0m                                 Traceback (most recent call last)",
      "\u001b[0;32m<ipython-input-34-c48173a5e426>\u001b[0m in \u001b[0;36m<module>\u001b[0;34m()\u001b[0m\n\u001b[1;32m      3\u001b[0m \u001b[0;32mfrom\u001b[0m \u001b[0murllib\u001b[0m\u001b[0;34m.\u001b[0m\u001b[0mrequest\u001b[0m \u001b[0;32mimport\u001b[0m \u001b[0murlopen\u001b[0m\u001b[0;34m\u001b[0m\u001b[0m\n\u001b[1;32m      4\u001b[0m \u001b[0;34m\u001b[0m\u001b[0m\n\u001b[0;32m----> 5\u001b[0;31m \u001b[0mHTML\u001b[0m\u001b[0;34m(\u001b[0m\u001b[0murlopen\u001b[0m\u001b[0;34m(\u001b[0m\u001b[0murl\u001b[0m\u001b[0;34m)\u001b[0m\u001b[0;34m)\u001b[0m\u001b[0;34m\u001b[0m\u001b[0m\n\u001b[0m",
      "\u001b[0;32m/home/ian/anaconda3/lib/python3.6/site-packages/IPython/core/display.py\u001b[0m in \u001b[0;36m__init__\u001b[0;34m(self, data, url, filename)\u001b[0m\n\u001b[1;32m    393\u001b[0m \u001b[0;34m\u001b[0m\u001b[0m\n\u001b[1;32m    394\u001b[0m         \u001b[0mself\u001b[0m\u001b[0;34m.\u001b[0m\u001b[0mreload\u001b[0m\u001b[0;34m(\u001b[0m\u001b[0;34m)\u001b[0m\u001b[0;34m\u001b[0m\u001b[0m\n\u001b[0;32m--> 395\u001b[0;31m         \u001b[0mself\u001b[0m\u001b[0;34m.\u001b[0m\u001b[0m_check_data\u001b[0m\u001b[0;34m(\u001b[0m\u001b[0;34m)\u001b[0m\u001b[0;34m\u001b[0m\u001b[0m\n\u001b[0m\u001b[1;32m    396\u001b[0m \u001b[0;34m\u001b[0m\u001b[0m\n\u001b[1;32m    397\u001b[0m     \u001b[0;32mdef\u001b[0m \u001b[0m__repr__\u001b[0m\u001b[0;34m(\u001b[0m\u001b[0mself\u001b[0m\u001b[0;34m)\u001b[0m\u001b[0;34m:\u001b[0m\u001b[0;34m\u001b[0m\u001b[0m\n",
      "\u001b[0;32m/home/ian/anaconda3/lib/python3.6/site-packages/IPython/core/display.py\u001b[0m in \u001b[0;36m_check_data\u001b[0;34m(self)\u001b[0m\n\u001b[1;32m    437\u001b[0m     \u001b[0;32mdef\u001b[0m \u001b[0m_check_data\u001b[0m\u001b[0;34m(\u001b[0m\u001b[0mself\u001b[0m\u001b[0;34m)\u001b[0m\u001b[0;34m:\u001b[0m\u001b[0;34m\u001b[0m\u001b[0m\n\u001b[1;32m    438\u001b[0m         \u001b[0;32mif\u001b[0m \u001b[0mself\u001b[0m\u001b[0;34m.\u001b[0m\u001b[0mdata\u001b[0m \u001b[0;32mis\u001b[0m \u001b[0;32mnot\u001b[0m \u001b[0;32mNone\u001b[0m \u001b[0;32mand\u001b[0m \u001b[0;32mnot\u001b[0m \u001b[0misinstance\u001b[0m\u001b[0;34m(\u001b[0m\u001b[0mself\u001b[0m\u001b[0;34m.\u001b[0m\u001b[0mdata\u001b[0m\u001b[0;34m,\u001b[0m \u001b[0mstring_types\u001b[0m\u001b[0;34m)\u001b[0m\u001b[0;34m:\u001b[0m\u001b[0;34m\u001b[0m\u001b[0m\n\u001b[0;32m--> 439\u001b[0;31m             \u001b[0;32mraise\u001b[0m \u001b[0mTypeError\u001b[0m\u001b[0;34m(\u001b[0m\u001b[0;34m\"%s expects text, not %r\"\u001b[0m \u001b[0;34m%\u001b[0m \u001b[0;34m(\u001b[0m\u001b[0mself\u001b[0m\u001b[0;34m.\u001b[0m\u001b[0m__class__\u001b[0m\u001b[0;34m.\u001b[0m\u001b[0m__name__\u001b[0m\u001b[0;34m,\u001b[0m \u001b[0mself\u001b[0m\u001b[0;34m.\u001b[0m\u001b[0mdata\u001b[0m\u001b[0;34m)\u001b[0m\u001b[0;34m)\u001b[0m\u001b[0;34m\u001b[0m\u001b[0m\n\u001b[0m\u001b[1;32m    440\u001b[0m \u001b[0;34m\u001b[0m\u001b[0m\n\u001b[1;32m    441\u001b[0m \u001b[0;32mclass\u001b[0m \u001b[0mPretty\u001b[0m\u001b[0;34m(\u001b[0m\u001b[0mTextDisplayObject\u001b[0m\u001b[0;34m)\u001b[0m\u001b[0;34m:\u001b[0m\u001b[0;34m\u001b[0m\u001b[0m\n",
      "\u001b[0;31mTypeError\u001b[0m: HTML expects text, not <http.client.HTTPResponse object at 0x7fb05cd52f98>"
     ]
    }
   ],
   "source": [
    "# CSS styling within IPython notebook - feel free to re-use\n",
    "from IPython.core.display import HTML\n",
    "from urllib.request import urlopen\n",
    "\n",
    "HTML(urlopen(url))"
   ]
  },
  {
   "cell_type": "code",
   "execution_count": 7,
   "metadata": {
    "collapsed": false
   },
   "outputs": [
    {
     "name": "stderr",
     "output_type": "stream",
     "text": [
      "INFO:bokeh.core.state:Session output file 'openurl.html' already exists, will be overwritten.\n"
     ]
    },
    {
     "name": "stdout",
     "output_type": "stream",
     "text": [
      "0\n",
      "1\n",
      "2\n",
      "3\n",
      "4\n",
      "5\n",
      "6\n",
      "7\n",
      "8\n",
      "9\n",
      "10\n",
      "11\n"
     ]
    }
   ],
   "source": [
    "from bokeh.models import ColumnDataSource, OpenURL, TapTool\n",
    "from bokeh.plotting import figure, output_file, show\n",
    "\n",
    "output_file(\"openurl.html\")\n",
    "\n",
    "p = figure(plot_width=400, plot_height=400,\n",
    "           tools=\"tap\", title=\"Click the Dots\")\n",
    "\n",
    "a = 0.9\n",
    "colors = [(255, 0, 0), (0, 255, 0), (0, 0, 255), (255, 255, 255), (0, 0, 0), (100, 25, 200), (255, 255, 0), (0, 255, 255), (255, 0, 255), (128, 128, 128), (0, 0, 128), (128, 0, 128)]\n",
    "sources = ['cnn', 'abc', 'fox', 'nyt', 'reuters', 'wapo', 'huffpo', 'esquire', 'rollingstone', 'cbs', '538', 'washtimes']\n",
    "\n",
    "import seaborn.apionly as sns\n",
    "import itertools \n",
    "ncolors = 5\n",
    "palette = sns.palettes.color_palette('colorblind', ncolors)\n",
    "# as hex is necessary for bokeh to render the colors properly.\n",
    "\n",
    "for i, color in enumerate(colors):\n",
    "    print(i)\n",
    "    source = ColumnDataSource(data=dict(\n",
    "        x=[1+i, 2+i, 3+i, 4+i, 5+i],\n",
    "        y=[2, 5, 8, 2, 7],\n",
    "#         color=[\"navy\", \"orange\", \"olive\", \"firebrick\", \"gold\"],\n",
    "        size = [2,4,6,8,10],\n",
    "        url = [ 'https://fivethirtyeight.com/features/are-moderate-republicans-really-willing-to-kill-the-senate-health-care-bill/',\n",
    "           'https://fivethirtyeight.com/features/donald-trumps-base-is-shrinking/',\n",
    "           'https://fivethirtyeight.com/features/jeff-sessions-may-be-tough-on-crime-but-states-want-fewer-prisoners/',\n",
    "           'https://fivethirtyeight.com/features/this-trump-russia-investigation-could-last-for-years/',\n",
    "           'https://fivethirtyeight.com/features/we-started-with-14-possible-paths-for-trumps-presidency-which-are-most-likely-now/']\n",
    "\n",
    "    ))\n",
    "\n",
    "    p.circle('x', 'y', color=color, alpha=a, size='size', source=source)\n",
    "\n",
    "    url = \"@url\"\n",
    "    taptool = p.select(type=TapTool)\n",
    "    taptool.callback = OpenURL(url=url)\n",
    "\n",
    "show(p)"
   ]
  },
  {
   "cell_type": "code",
   "execution_count": 5,
   "metadata": {
    "collapsed": false
   },
   "outputs": [
    {
     "data": {
      "text/plain": [
       "[(0.0, 0.4470588235294118, 0.6980392156862745),\n",
       " (0.0, 0.6196078431372549, 0.45098039215686275),\n",
       " (0.8352941176470589, 0.3686274509803922, 0.0),\n",
       " (0.8, 0.4745098039215686, 0.6549019607843137),\n",
       " (0.9411764705882353, 0.8941176470588236, 0.25882352941176473)]"
      ]
     },
     "execution_count": 5,
     "metadata": {},
     "output_type": "execute_result"
    }
   ],
   "source": [
    "import seaborn.apionly as sns\n",
    "import itertools \n",
    "ncolors = 5\n",
    "palette = sns.palettes.color_palette('colorblind', ncolors)\n",
    "palette"
   ]
  },
  {
   "cell_type": "code",
   "execution_count": 8,
   "metadata": {
    "collapsed": true
   },
   "outputs": [],
   "source": [
    "from bokeh.models.widgets import Panel, Tabs\n",
    "from bokeh.io import output_file, show\n",
    "from bokeh.plotting import figure\n",
    "\n",
    "output_file(\"slider.html\")\n",
    "\n",
    "p1 = figure(plot_width=300, plot_height=300)\n",
    "p1.circle([1, 2, 3, 4, 5], [6, 7, 2, 4, 5], size=20, color=\"navy\", alpha=0.5)\n",
    "tab1 = Panel(child=p1, title=\"circle\")\n",
    "\n",
    "p2 = figure(plot_width=300, plot_height=300)\n",
    "p2.line([1, 2, 3, 4, 5], [6, 7, 2, 4, 5], line_width=3, color=\"navy\", alpha=0.5)\n",
    "tab2 = Panel(child=p2, title=\"line\")\n",
    "\n",
    "tabs = Tabs(tabs=[ tab1, tab2 ])\n",
    "\n",
    "show(tabs)"
   ]
  },
  {
   "cell_type": "code",
   "execution_count": 9,
   "metadata": {
    "collapsed": false
   },
   "outputs": [
    {
     "data": {
      "text/html": [
       "<div style=\"display: table;\"><div style=\"display: table-row;\"><div style=\"display: table-cell;\"><b title=\"bokeh.models.widgets.panels.Tabs\">Tabs</b>(</div><div style=\"display: table-cell;\">id&nbsp;=&nbsp;'fca3f744-e7a4-4f77-a59e-1e572abdef29', <span id=\"ee44211e-61f2-4d58-8d1b-58c6ca83c491\" style=\"cursor: pointer;\">&hellip;)</span></div></div><div class=\"2d35330f-13a7-4dc2-9a5c-485341178b3b\" style=\"display: none;\"><div style=\"display: table-cell;\"></div><div style=\"display: table-cell;\">active&nbsp;=&nbsp;0,</div></div><div class=\"2d35330f-13a7-4dc2-9a5c-485341178b3b\" style=\"display: none;\"><div style=\"display: table-cell;\"></div><div style=\"display: table-cell;\">callback&nbsp;=&nbsp;None,</div></div><div class=\"2d35330f-13a7-4dc2-9a5c-485341178b3b\" style=\"display: none;\"><div style=\"display: table-cell;\"></div><div style=\"display: table-cell;\">css_classes&nbsp;=&nbsp;None,</div></div><div class=\"2d35330f-13a7-4dc2-9a5c-485341178b3b\" style=\"display: none;\"><div style=\"display: table-cell;\"></div><div style=\"display: table-cell;\">disabled&nbsp;=&nbsp;False,</div></div><div class=\"2d35330f-13a7-4dc2-9a5c-485341178b3b\" style=\"display: none;\"><div style=\"display: table-cell;\"></div><div style=\"display: table-cell;\">height&nbsp;=&nbsp;None,</div></div><div class=\"2d35330f-13a7-4dc2-9a5c-485341178b3b\" style=\"display: none;\"><div style=\"display: table-cell;\"></div><div style=\"display: table-cell;\">js_callbacks&nbsp;=&nbsp;{},</div></div><div class=\"2d35330f-13a7-4dc2-9a5c-485341178b3b\" style=\"display: none;\"><div style=\"display: table-cell;\"></div><div style=\"display: table-cell;\">name&nbsp;=&nbsp;None,</div></div><div class=\"2d35330f-13a7-4dc2-9a5c-485341178b3b\" style=\"display: none;\"><div style=\"display: table-cell;\"></div><div style=\"display: table-cell;\">sizing_mode&nbsp;=&nbsp;'fixed',</div></div><div class=\"2d35330f-13a7-4dc2-9a5c-485341178b3b\" style=\"display: none;\"><div style=\"display: table-cell;\"></div><div style=\"display: table-cell;\">tabs&nbsp;=&nbsp;[Panel(id='165fed17-6275-44bd-8036-ecc249e15299', ...), Panel(id='95b8fb1c-ff16-4487-9d10-de05baea6cd4', ...)],</div></div><div class=\"2d35330f-13a7-4dc2-9a5c-485341178b3b\" style=\"display: none;\"><div style=\"display: table-cell;\"></div><div style=\"display: table-cell;\">tags&nbsp;=&nbsp;[],</div></div><div class=\"2d35330f-13a7-4dc2-9a5c-485341178b3b\" style=\"display: none;\"><div style=\"display: table-cell;\"></div><div style=\"display: table-cell;\">width&nbsp;=&nbsp;None)</div></div></div>\n",
       "<script>\n",
       "(function() {\n",
       "  var expanded = false;\n",
       "  var ellipsis = document.getElementById(\"ee44211e-61f2-4d58-8d1b-58c6ca83c491\");\n",
       "  ellipsis.addEventListener(\"click\", function() {\n",
       "    var rows = document.getElementsByClassName(\"2d35330f-13a7-4dc2-9a5c-485341178b3b\");\n",
       "    for (var i = 0; i < rows.length; i++) {\n",
       "      var el = rows[i];\n",
       "      el.style.display = expanded ? \"none\" : \"table-row\";\n",
       "    }\n",
       "    ellipsis.innerHTML = expanded ? \"&hellip;)\" : \"&lsaquo;&lsaquo;&lsaquo;\";\n",
       "    expanded = !expanded;\n",
       "  });\n",
       "})();\n",
       "</script>\n"
      ],
      "text/plain": [
       "Tabs(id='fca3f744-e7a4-4f77-a59e-1e572abdef29', ...)"
      ]
     },
     "execution_count": 9,
     "metadata": {},
     "output_type": "execute_result"
    }
   ],
   "source": [
    "tabs"
   ]
  },
  {
   "cell_type": "code",
   "execution_count": 10,
   "metadata": {
    "collapsed": false
   },
   "outputs": [
    {
     "data": {
      "text/plain": [
       "[Panel(id='165fed17-6275-44bd-8036-ecc249e15299', ...),\n",
       " Panel(id='95b8fb1c-ff16-4487-9d10-de05baea6cd4', ...)]"
      ]
     },
     "execution_count": 10,
     "metadata": {},
     "output_type": "execute_result"
    }
   ],
   "source": [
    "[ tab1, tab2 ]"
   ]
  },
  {
   "cell_type": "code",
   "execution_count": null,
   "metadata": {
    "collapsed": true
   },
   "outputs": [],
   "source": []
  }
 ],
 "metadata": {
  "kernelspec": {
   "display_name": "Python 3",
   "language": "python",
   "name": "python3"
  },
  "language_info": {
   "codemirror_mode": {
    "name": "ipython",
    "version": 3
   },
   "file_extension": ".py",
   "mimetype": "text/x-python",
   "name": "python",
   "nbconvert_exporter": "python",
   "pygments_lexer": "ipython3",
   "version": "3.6.0"
  }
 },
 "nbformat": 4,
 "nbformat_minor": 2
}
